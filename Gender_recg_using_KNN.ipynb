{
  "nbformat": 4,
  "nbformat_minor": 0,
  "metadata": {
    "colab": {
      "name": "Gender recg using KNN.ipynb",
      "provenance": []
    },
    "kernelspec": {
      "name": "python3",
      "display_name": "Python 3"
    }
  },
  "cells": [
    {
      "cell_type": "code",
      "metadata": {
        "id": "wpn7JGan4h40",
        "colab_type": "code",
        "outputId": "f1406d15-d103-4b37-8086-a91fb669366b",
        "colab": {
          "base_uri": "https://localhost:8080/",
          "height": 34
        }
      },
      "source": [
        "from google.colab import drive\n",
        "drive.mount('/content/drive')"
      ],
      "execution_count": 0,
      "outputs": [
        {
          "output_type": "stream",
          "text": [
            "Drive already mounted at /content/drive; to attempt to forcibly remount, call drive.mount(\"/content/drive\", force_remount=True).\n"
          ],
          "name": "stdout"
        }
      ]
    },
    {
      "cell_type": "code",
      "metadata": {
        "id": "x5XZFCui3jPb",
        "colab_type": "code",
        "colab": {}
      },
      "source": [
        "import numpy as np\n",
        "import pandas as pd\n",
        "import matplotlib.pyplot as plt\n",
        "from sklearn.datasets import load_wine\n",
        "from sklearn.model_selection import train_test_split\n",
        "%matplotlib inline"
      ],
      "execution_count": 0,
      "outputs": []
    },
    {
      "cell_type": "code",
      "metadata": {
        "id": "b-RkrZz04tMR",
        "colab_type": "code",
        "colab": {}
      },
      "source": [
        "voice = pd.read_csv(\"/content/drive/My Drive/dataset/voice.csv\")"
      ],
      "execution_count": 0,
      "outputs": []
    },
    {
      "cell_type": "code",
      "metadata": {
        "id": "u0ICufY843l6",
        "colab_type": "code",
        "colab": {}
      },
      "source": [
        "voice['label']  = voice['label'].astype('category').cat.codes"
      ],
      "execution_count": 0,
      "outputs": []
    },
    {
      "cell_type": "code",
      "metadata": {
        "id": "w2GAxiZn5W_M",
        "colab_type": "code",
        "outputId": "3897d7a4-e82f-4d9f-8f8f-4134475a8655",
        "colab": {
          "base_uri": "https://localhost:8080/",
          "height": 391
        }
      },
      "source": [
        "corr_voice = voice.corr('pearson')\n",
        "corr_voice['label'].sort_values()"
      ],
      "execution_count": 0,
      "outputs": [
        {
          "output_type": "execute_result",
          "data": {
            "text/plain": [
              "meanfun    -0.833921\n",
              "Q25        -0.511455\n",
              "meanfreq   -0.337415\n",
              "centroid   -0.337415\n",
              "median     -0.283919\n",
              "maxdom     -0.195657\n",
              "mindom     -0.194974\n",
              "dfrange    -0.192213\n",
              "meandom    -0.191067\n",
              "mode       -0.171775\n",
              "maxfun     -0.166461\n",
              "minfun     -0.136692\n",
              "modindx     0.030801\n",
              "skew        0.036627\n",
              "Q75         0.066906\n",
              "kurt        0.087195\n",
              "sfm         0.357499\n",
              "sd          0.479539\n",
              "sp.ent      0.490552\n",
              "IQR         0.618916\n",
              "label       1.000000\n",
              "Name: label, dtype: float64"
            ]
          },
          "metadata": {
            "tags": []
          },
          "execution_count": 168
        }
      ]
    },
    {
      "cell_type": "code",
      "metadata": {
        "id": "k3stNfe_5dqI",
        "colab_type": "code",
        "colab": {}
      },
      "source": [
        "features = voice.iloc[:, :-1]\n",
        "target = voice.iloc[:,-1]"
      ],
      "execution_count": 0,
      "outputs": []
    },
    {
      "cell_type": "code",
      "metadata": {
        "id": "I1ufhzBWJoY2",
        "colab_type": "code",
        "colab": {}
      },
      "source": [
        "from sklearn.preprocessing import MinMaxScaler\n",
        "scaler = MinMaxScaler()\n",
        "features = scaler.fit_transform(features)"
      ],
      "execution_count": 0,
      "outputs": []
    },
    {
      "cell_type": "code",
      "metadata": {
        "id": "32f2z2KVJEh5",
        "colab_type": "code",
        "colab": {}
      },
      "source": [
        "xtrain, xtest, ytrain, ytest = train_test_split(features,target, test_size=0.3)"
      ],
      "execution_count": 0,
      "outputs": []
    },
    {
      "cell_type": "code",
      "metadata": {
        "id": "o9OYK-SGJUaf",
        "colab_type": "code",
        "outputId": "2d580b2f-c6f9-45b4-8fdb-44203a747959",
        "colab": {
          "base_uri": "https://localhost:8080/",
          "height": 136
        }
      },
      "source": [
        "xtest[:, [5,12]]"
      ],
      "execution_count": 0,
      "outputs": [
        {
          "output_type": "execute_result",
          "data": {
            "text/plain": [
              "array([[0.67098314, 0.78906782],\n",
              "       [0.35089389, 0.20195093],\n",
              "       [0.37932817, 0.3805814 ],\n",
              "       ...,\n",
              "       [0.59421924, 0.2998492 ],\n",
              "       [0.46924445, 0.62431856],\n",
              "       [0.4424503 , 0.44187372]])"
            ]
          },
          "metadata": {
            "tags": []
          },
          "execution_count": 172
        }
      ]
    },
    {
      "cell_type": "code",
      "metadata": {
        "id": "aYCbH68052Qh",
        "colab_type": "code",
        "colab": {}
      },
      "source": [
        "basex = xtrain[:, [5,12]]\n",
        "basey = np.array(ytrain)\n",
        "\n",
        "xtest = xtest[:, [5,12]]\n",
        "ytest = np.array(ytest)"
      ],
      "execution_count": 0,
      "outputs": []
    },
    {
      "cell_type": "code",
      "metadata": {
        "id": "_UwRNnciLP8R",
        "colab_type": "code",
        "outputId": "64d3658d-85c4-4b5a-924a-29dd6b657023",
        "colab": {
          "base_uri": "https://localhost:8080/",
          "height": 136
        }
      },
      "source": [
        "basex[:,1].reshape(-1,1)"
      ],
      "execution_count": 0,
      "outputs": [
        {
          "output_type": "execute_result",
          "data": {
            "text/plain": [
              "array([[0.68450726],\n",
              "       [0.21986896],\n",
              "       [0.66827192],\n",
              "       ...,\n",
              "       [0.54312546],\n",
              "       [0.6587583 ],\n",
              "       [0.71587225]])"
            ]
          },
          "metadata": {
            "tags": []
          },
          "execution_count": 174
        }
      ]
    },
    {
      "cell_type": "code",
      "metadata": {
        "id": "g2FMMfqiLUac",
        "colab_type": "code",
        "outputId": "620bfbb0-a1c5-4c1d-acb5-5ea7bc6b7276",
        "colab": {
          "base_uri": "https://localhost:8080/",
          "height": 282
        }
      },
      "source": [
        "plt.scatter(basex[:,0].reshape(-1,1), basex[:,1].reshape(-1,1), c=basey, s=15)\n",
        "plt.scatter(0.25, 0.2, c='red', marker='x', s=100)"
      ],
      "execution_count": 0,
      "outputs": [
        {
          "output_type": "execute_result",
          "data": {
            "text/plain": [
              "<matplotlib.collections.PathCollection at 0x7f4e58cce7f0>"
            ]
          },
          "metadata": {
            "tags": []
          },
          "execution_count": 175
        },
        {
          "output_type": "display_data",
          "data": {
            "image/png": "[encoded data removed]",
            "text/plain": [
              "<Figure size 432x288 with 1 Axes>"
            ]
          },
          "metadata": {
            "tags": []
          }
        }
      ]
    },
    {
      "cell_type": "code",
      "metadata": {
        "id": "vIjzGEJd34sj",
        "colab_type": "code",
        "colab": {}
      },
      "source": [
        "# Calculate Distance between any two given points\n",
        "def euclid_distance(train_point, given_point):\n",
        "    distance = np.sum((train_point-given_point)**2)\n",
        "    return np.sqrt(distance)\n"
      ],
      "execution_count": 0,
      "outputs": []
    },
    {
      "cell_type": "code",
      "metadata": {
        "id": "3B485qEV3852",
        "colab_type": "code",
        "colab": {}
      },
      "source": [
        "# Calculate distance from a given point to all other points\n",
        "# and keep track of the respective classes for those distances\n",
        "# and eventually return sorted list of distances\n",
        "def calc_distance_from_all(all_points, given_point, predictions):\n",
        "    all_distances = []\n",
        "    for i, each in enumerate(all_points):\n",
        "        distance = euclid_distance(each, given_point)\n",
        "        all_distances.append((distance,int(predictions[i])))\n",
        "    all_distances.sort(key=lambda mytup: mytup[0])\n",
        "    return all_distances"
      ],
      "execution_count": 0,
      "outputs": []
    },
    {
      "cell_type": "code",
      "metadata": {
        "id": "lbGXxK1n4Afn",
        "colab_type": "code",
        "colab": {}
      },
      "source": [
        "# Get the \"n\" defined neighbours from a list of sorted distances\n",
        "def get_neighbours(distances, count):\n",
        "    return distances[:count]\n"
      ],
      "execution_count": 0,
      "outputs": []
    },
    {
      "cell_type": "code",
      "metadata": {
        "id": "yqsW_qjW4Ug9",
        "colab_type": "code",
        "colab": {}
      },
      "source": [
        "# Takes a given point and predicts the class based on all other points\n",
        "def predict(all_points, given_point, predictions):\n",
        "    distances = calc_distance_from_all(all_points,given_point,predictions)\n",
        "    neighbours = get_neighbours(distances, 3)\n",
        "    op = [row[-1] for row in neighbours]\n",
        "    prediction = max(op, key=op.count)\n",
        "    return prediction\n",
        "\n",
        "\n",
        "\n",
        "# Get how accurate our system is based on a new set of test points\n",
        "# for which we already know the right answer to\n",
        "def accuracy(basex, basey, testx, testy):\n",
        "    correct = 0 \n",
        "    \n",
        "    for i in range(len(testx)):\n",
        "        p = predict(basex, testx[i], basey)\n",
        "        if p == testy[i]:\n",
        "            correct += 1\n",
        "            \n",
        "    return f\"Accuracy: {correct*100/len(testy)}%\""
      ],
      "execution_count": 0,
      "outputs": []
    },
    {
      "cell_type": "code",
      "metadata": {
        "id": "ym2MFtNk4YjK",
        "colab_type": "code",
        "outputId": "5b76104e-9c54-47cd-b4a3-7ce22d1b39a3",
        "colab": {
          "base_uri": "https://localhost:8080/",
          "height": 85
        }
      },
      "source": [
        "xtrain[0]"
      ],
      "execution_count": 0,
      "outputs": [
        {
          "output_type": "execute_result",
          "data": {
            "text/plain": [
              "array([0.83054183, 0.13073573, 0.81021339, 0.80003129, 0.80368033,\n",
              "       0.06616135, 0.06928806, 0.00565218, 0.33722863, 0.13743607,\n",
              "       0.79623824, 0.83054183, 0.68450726, 0.19235647, 0.97257028,\n",
              "       0.24433102, 0.04086022, 0.18727663, 0.18669528, 0.12386645])"
            ]
          },
          "metadata": {
            "tags": []
          },
          "execution_count": 180
        }
      ]
    },
    {
      "cell_type": "code",
      "metadata": {
        "id": "1fCrsRpHLpX1",
        "colab_type": "code",
        "outputId": "d89aa342-5de1-4080-caa3-e83b80edd30b",
        "colab": {
          "base_uri": "https://localhost:8080/",
          "height": 34
        }
      },
      "source": [
        "ytrain.values[0]"
      ],
      "execution_count": 0,
      "outputs": [
        {
          "output_type": "execute_result",
          "data": {
            "text/plain": [
              "0"
            ]
          },
          "metadata": {
            "tags": []
          },
          "execution_count": 181
        }
      ]
    },
    {
      "cell_type": "code",
      "metadata": {
        "id": "BewOz2dyLvoL",
        "colab_type": "code",
        "outputId": "b3589df8-e2b8-4933-8c91-75876d240dd1",
        "colab": {
          "base_uri": "https://localhost:8080/",
          "height": 34
        }
      },
      "source": [
        "predict(basex, xtest[0], ytrain.values)"
      ],
      "execution_count": 0,
      "outputs": [
        {
          "output_type": "execute_result",
          "data": {
            "text/plain": [
              "0"
            ]
          },
          "metadata": {
            "tags": []
          },
          "execution_count": 182
        }
      ]
    },
    {
      "cell_type": "code",
      "metadata": {
        "id": "l4tOAKzxM9Yc",
        "colab_type": "code",
        "outputId": "7de9ff05-32ee-48e9-f973-b9f26e839d23",
        "colab": {
          "base_uri": "https://localhost:8080/",
          "height": 34
        }
      },
      "source": [
        "accuracy(basex, ytrain.values, xtest, ytest)"
      ],
      "execution_count": 0,
      "outputs": [
        {
          "output_type": "execute_result",
          "data": {
            "text/plain": [
              "'Accuracy: 96.84542586750788%'"
            ]
          },
          "metadata": {
            "tags": []
          },
          "execution_count": 183
        }
      ]
    },
    {
      "cell_type": "markdown",
      "metadata": {
        "id": "qIOnhr_lF7LX",
        "colab_type": "text"
      },
      "source": [
        ""
      ]
    },
    {
      "cell_type": "code",
      "metadata": {
        "id": "VKBMMeDSOyp9",
        "colab_type": "code",
        "colab": {}
      },
      "source": [
        ""
      ],
      "execution_count": 0,
      "outputs": []
    }
  ]
}