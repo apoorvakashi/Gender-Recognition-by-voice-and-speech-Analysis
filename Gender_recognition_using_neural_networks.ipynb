{
  "nbformat": 4,
  "nbformat_minor": 0,
  "metadata": {
    "colab": {
      "name": "Gender recognition using neural networks.ipynb",
      "provenance": []
    },
    "kernelspec": {
      "name": "python3",
      "display_name": "Python 3"
    },
    "widgets": {
      "application/vnd.jupyter.widget-state+json": {
        "d2c408836d944cb19bff8d62b33e49d4": {
          "model_module": "@jupyter-widgets/controls",
          "model_name": "HBoxModel",
          "state": {
            "_view_name": "HBoxView",
            "_dom_classes": [],
            "_model_name": "HBoxModel",
            "_view_module": "@jupyter-widgets/controls",
            "_model_module_version": "1.5.0",
            "_view_count": null,
            "_view_module_version": "1.5.0",
            "box_style": "",
            "layout": "IPY_MODEL_7d19f90f0c27481f815fe567cdba1ab5",
            "_model_module": "@jupyter-widgets/controls",
            "children": [
              "IPY_MODEL_2a5254e9743443b3b5b5c312e1c2ba5d",
              "IPY_MODEL_0bd7db6ce14249b6945addd37368e3c6"
            ]
          }
        },
        "7d19f90f0c27481f815fe567cdba1ab5": {
          "model_module": "@jupyter-widgets/base",
          "model_name": "LayoutModel",
          "state": {
            "_view_name": "LayoutView",
            "grid_template_rows": null,
            "right": null,
            "justify_content": null,
            "_view_module": "@jupyter-widgets/base",
            "overflow": null,
            "_model_module_version": "1.2.0",
            "_view_count": null,
            "flex_flow": null,
            "width": null,
            "min_width": null,
            "border": null,
            "align_items": null,
            "bottom": null,
            "_model_module": "@jupyter-widgets/base",
            "top": null,
            "grid_column": null,
            "overflow_y": null,
            "overflow_x": null,
            "grid_auto_flow": null,
            "grid_area": null,
            "grid_template_columns": null,
            "flex": null,
            "_model_name": "LayoutModel",
            "justify_items": null,
            "grid_row": null,
            "max_height": null,
            "align_content": null,
            "visibility": null,
            "align_self": null,
            "height": null,
            "min_height": null,
            "padding": null,
            "grid_auto_rows": null,
            "grid_gap": null,
            "max_width": null,
            "order": null,
            "_view_module_version": "1.2.0",
            "grid_template_areas": null,
            "object_position": null,
            "object_fit": null,
            "grid_auto_columns": null,
            "margin": null,
            "display": null,
            "left": null
          }
        },
        "2a5254e9743443b3b5b5c312e1c2ba5d": {
          "model_module": "@jupyter-widgets/controls",
          "model_name": "IntProgressModel",
          "state": {
            "_view_name": "ProgressView",
            "style": "IPY_MODEL_7b72c179b93c4493a988f7652c577b20",
            "_dom_classes": [],
            "description": "100%",
            "_model_name": "IntProgressModel",
            "bar_style": "success",
            "max": 15000,
            "_view_module": "@jupyter-widgets/controls",
            "_model_module_version": "1.5.0",
            "value": 15000,
            "_view_count": null,
            "_view_module_version": "1.5.0",
            "orientation": "horizontal",
            "min": 0,
            "description_tooltip": null,
            "_model_module": "@jupyter-widgets/controls",
            "layout": "IPY_MODEL_ba78c71903fa498b8ca61c309fec0f49"
          }
        },
        "0bd7db6ce14249b6945addd37368e3c6": {
          "model_module": "@jupyter-widgets/controls",
          "model_name": "HTMLModel",
          "state": {
            "_view_name": "HTMLView",
            "style": "IPY_MODEL_638fa3be0560492a9afd5675e0df9957",
            "_dom_classes": [],
            "description": "",
            "_model_name": "HTMLModel",
            "placeholder": "​",
            "_view_module": "@jupyter-widgets/controls",
            "_model_module_version": "1.5.0",
            "value": " 15000/15000 [00:20&lt;00:00, 715.35it/s]",
            "_view_count": null,
            "_view_module_version": "1.5.0",
            "description_tooltip": null,
            "_model_module": "@jupyter-widgets/controls",
            "layout": "IPY_MODEL_e32751ad2c1a4d83840e8a42d243ada7"
          }
        },
        "7b72c179b93c4493a988f7652c577b20": {
          "model_module": "@jupyter-widgets/controls",
          "model_name": "ProgressStyleModel",
          "state": {
            "_view_name": "StyleView",
            "_model_name": "ProgressStyleModel",
            "description_width": "initial",
            "_view_module": "@jupyter-widgets/base",
            "_model_module_version": "1.5.0",
            "_view_count": null,
            "_view_module_version": "1.2.0",
            "bar_color": null,
            "_model_module": "@jupyter-widgets/controls"
          }
        },
        "ba78c71903fa498b8ca61c309fec0f49": {
          "model_module": "@jupyter-widgets/base",
          "model_name": "LayoutModel",
          "state": {
            "_view_name": "LayoutView",
            "grid_template_rows": null,
            "right": null,
            "justify_content": null,
            "_view_module": "@jupyter-widgets/base",
            "overflow": null,
            "_model_module_version": "1.2.0",
            "_view_count": null,
            "flex_flow": null,
            "width": null,
            "min_width": null,
            "border": null,
            "align_items": null,
            "bottom": null,
            "_model_module": "@jupyter-widgets/base",
            "top": null,
            "grid_column": null,
            "overflow_y": null,
            "overflow_x": null,
            "grid_auto_flow": null,
            "grid_area": null,
            "grid_template_columns": null,
            "flex": null,
            "_model_name": "LayoutModel",
            "justify_items": null,
            "grid_row": null,
            "max_height": null,
            "align_content": null,
            "visibility": null,
            "align_self": null,
            "height": null,
            "min_height": null,
            "padding": null,
            "grid_auto_rows": null,
            "grid_gap": null,
            "max_width": null,
            "order": null,
            "_view_module_version": "1.2.0",
            "grid_template_areas": null,
            "object_position": null,
            "object_fit": null,
            "grid_auto_columns": null,
            "margin": null,
            "display": null,
            "left": null
          }
        },
        "638fa3be0560492a9afd5675e0df9957": {
          "model_module": "@jupyter-widgets/controls",
          "model_name": "DescriptionStyleModel",
          "state": {
            "_view_name": "StyleView",
            "_model_name": "DescriptionStyleModel",
            "description_width": "",
            "_view_module": "@jupyter-widgets/base",
            "_model_module_version": "1.5.0",
            "_view_count": null,
            "_view_module_version": "1.2.0",
            "_model_module": "@jupyter-widgets/controls"
          }
        },
        "e32751ad2c1a4d83840e8a42d243ada7": {
          "model_module": "@jupyter-widgets/base",
          "model_name": "LayoutModel",
          "state": {
            "_view_name": "LayoutView",
            "grid_template_rows": null,
            "right": null,
            "justify_content": null,
            "_view_module": "@jupyter-widgets/base",
            "overflow": null,
            "_model_module_version": "1.2.0",
            "_view_count": null,
            "flex_flow": null,
            "width": null,
            "min_width": null,
            "border": null,
            "align_items": null,
            "bottom": null,
            "_model_module": "@jupyter-widgets/base",
            "top": null,
            "grid_column": null,
            "overflow_y": null,
            "overflow_x": null,
            "grid_auto_flow": null,
            "grid_area": null,
            "grid_template_columns": null,
            "flex": null,
            "_model_name": "LayoutModel",
            "justify_items": null,
            "grid_row": null,
            "max_height": null,
            "align_content": null,
            "visibility": null,
            "align_self": null,
            "height": null,
            "min_height": null,
            "padding": null,
            "grid_auto_rows": null,
            "grid_gap": null,
            "max_width": null,
            "order": null,
            "_view_module_version": "1.2.0",
            "grid_template_areas": null,
            "object_position": null,
            "object_fit": null,
            "grid_auto_columns": null,
            "margin": null,
            "display": null,
            "left": null
          }
        }
      }
    }
  },
  "cells": [
    {
      "cell_type": "markdown",
      "metadata": {
        "id": "WfuuX3a0_Of6",
        "colab_type": "text"
      },
      "source": [
        "**NEURAL NETWORKS**\n",
        "\n",
        "Neural networks are multi-layer networks of neurons (the blue and magenta nodes in the chart below) that we use to classify things, make predictions.\n",
        "\n",
        "![alt text](https://miro.medium.com/max/796/1*yGMk1GSKKbyKr_cMarlWnA.jpeg)\n",
        "\n",
        "To know more about neural networks, [Click here](https://towardsdatascience.com/understanding-neural-networks-19020b758230)\n",
        "\n"
      ]
    },
    {
      "cell_type": "code",
      "metadata": {
        "id": "fUN9rYVmG1_s",
        "colab_type": "code",
        "outputId": "0dc2106d-bc7e-48f4-de44-b23406955705",
        "colab": {
          "base_uri": "https://localhost:8080/",
          "height": 122
        }
      },
      "source": [
        "from google.colab import drive\n",
        "drive.mount('/content/drive')"
      ],
      "execution_count": 1,
      "outputs": [
        {
          "output_type": "stream",
          "text": [
            "Go to this URL in a browser: https://accounts.google.com/o/oauth2/auth?client_id=947318989803-6bn6qk8qdgf4n4g3pfee6491hc0brc4i.apps.googleusercontent.com&redirect_uri=urn%3aietf%3awg%3aoauth%3a2.0%3aoob&response_type=code&scope=email%20https%3a%2f%2fwww.googleapis.com%2fauth%2fdocs.test%20https%3a%2f%2fwww.googleapis.com%2fauth%2fdrive%20https%3a%2f%2fwww.googleapis.com%2fauth%2fdrive.photos.readonly%20https%3a%2f%2fwww.googleapis.com%2fauth%2fpeopleapi.readonly\n",
            "\n",
            "Enter your authorization code:\n",
            "··········\n",
            "Mounted at /content/drive\n"
          ],
          "name": "stdout"
        }
      ]
    },
    {
      "cell_type": "markdown",
      "metadata": {
        "id": "crOzLyQp-grz",
        "colab_type": "text"
      },
      "source": [
        "IMPORTING THE LIBRARIES"
      ]
    },
    {
      "cell_type": "code",
      "metadata": {
        "id": "W8HqKns3JWUv",
        "colab_type": "code",
        "colab": {}
      },
      "source": [
        "import pandas as pd\n",
        "import numpy as np\n",
        "import matplotlib.pyplot as plt\n",
        "from sklearn.model_selection import train_test_split\n",
        "from sklearn.decomposition import PCA\n",
        "from sklearn.preprocessing import OneHotEncoder, MinMaxScaler\n",
        "from sklearn.metrics import accuracy_score\n",
        "from tqdm import tqdm_notebook\n",
        "plt.style.use('ggplot')"
      ],
      "execution_count": 0,
      "outputs": []
    },
    {
      "cell_type": "markdown",
      "metadata": {
        "id": "h2_NMVUIKcVz",
        "colab_type": "text"
      },
      "source": [
        "DEFINING THE DIFFERENT ACTIVATION FUNCTIONS\n"
      ]
    },
    {
      "cell_type": "code",
      "metadata": {
        "id": "n8hPkB4NJbxU",
        "colab_type": "code",
        "colab": {}
      },
      "source": [
        "# 1. Sigmoid / Logistic Function\n",
        "def sigmoid(x):\n",
        "    return 1 / (1 + np.exp(-x))\n",
        "\n",
        "def dsigmoid(x):\n",
        "    return x * (1-x)\n",
        "\n",
        "# 2. Rectified Linear Unit Function\n",
        "#def relu(x):\n",
        "#     return abs(x) * (x > 0)\n",
        "\n",
        "#def drelu(x):\n",
        "#     return 1. * (x > 0.)\n",
        "\n",
        "# 3. Leaky-Relu Functions\n",
        "#def lrelu(x):\n",
        "#    return np.where(x > 0., x, x * 0.01)\n",
        "\n",
        "#def dlrelu(x):\n",
        "#    dx = np.ones_like(x)\n",
        "#   dx[x < 0.] = 0.01\n",
        "#    return dx\n",
        "\n",
        "# 4. Hyperbolic Tan Function\n",
        "#def tanh(x):\n",
        "#    return np.tanh(x)\n",
        "\n",
        "#def dtanh(x):\n",
        "#    return 1.0 - (np.power(np.tanh(x),2))"
      ],
      "execution_count": 0,
      "outputs": []
    },
    {
      "cell_type": "code",
      "metadata": {
        "id": "YiaugOvVJfgR",
        "colab_type": "code",
        "colab": {}
      },
      "source": [
        "def feed_forward(data_in, w0,w1):\n",
        "    layer0 = data_in\n",
        "    layer1 = sigmoid(np.dot(layer0, w0))\n",
        "    layer2 = sigmoid(np.dot(layer1, w1))\n",
        "\n",
        "\n",
        "    return layer0, layer1, layer2\n",
        "\n",
        "def backpropogate(layer0, layer1, layer2, actual_y, w0,w1,learning_rate):\n",
        "\n",
        "    l2_error = layer2- actual_y\n",
        "    l2_delta = l2_error * dsigmoid(layer2)\n",
        "    dh2 = layer1.T.dot(l2_delta)\n",
        "\n",
        "    l1_error = l2_delta.dot(w1.T)\n",
        "    l1_delta = l1_error * dsigmoid(layer1)\n",
        "    dh1 = layer0.T.dot(l1_delta)\n",
        "\n",
        "    w1 = w1 - (learning_rate * dh2)\n",
        "    w0 = w0 - (learning_rate * dh1)     \n",
        "    return w0, w1\n",
        "\n",
        "def get_accuracy(X, Y):\n",
        "\n",
        "  layer0, layer1, y_pred = feed_forward(X, w0,w1)\n",
        "  yp = np.argmax(y_pred,axis=1)\n",
        "  yt = np.argmax(Y,axis=1)\n",
        "  return accuracy_score(yt, yp) * 100\n",
        "\n",
        "def get_model_description(weights):\n",
        "\n",
        "  total = 0\n",
        "  \n",
        "  print(\"Weight ip-op\", \"Layer Shape\", \"Layer Params\", sep=\"\\t\")\n",
        "  for i,l in enumerate(weights):\n",
        "    params = l.shape[0]*l.shape[1]\n",
        "    total += params\n",
        "    print(f\"Layer {i}-{i+1}\", l.shape, params, sep=\"\\t\")\n",
        "  \n",
        "  print(\"\\nTotal Trainable Params: \", total)"
      ],
      "execution_count": 0,
      "outputs": []
    },
    {
      "cell_type": "markdown",
      "metadata": {
        "id": "OtZmmCXVKi5Z",
        "colab_type": "text"
      },
      "source": [
        "LOADING DATA"
      ]
    },
    {
      "cell_type": "code",
      "metadata": {
        "id": "CcrTGEzcJj8y",
        "colab_type": "code",
        "outputId": "55cbc1aa-ad77-44c3-a352-b51dd454dc4c",
        "colab": {
          "base_uri": "https://localhost:8080/",
          "height": 224
        }
      },
      "source": [
        "data = pd.read_csv(\"/content/drive/My Drive/dataset/voice.csv\")\n",
        "data.head()"
      ],
      "execution_count": 5,
      "outputs": [
        {
          "output_type": "execute_result",
          "data": {
            "text/html": [
              "<div>\n",
              "<style scoped>\n",
              "    .dataframe tbody tr th:only-of-type {\n",
              "        vertical-align: middle;\n",
              "    }\n",
              "\n",
              "    .dataframe tbody tr th {\n",
              "        vertical-align: top;\n",
              "    }\n",
              "\n",
              "    .dataframe thead th {\n",
              "        text-align: right;\n",
              "    }\n",
              "</style>\n",
              "<table border=\"1\" class=\"dataframe\">\n",
              "  <thead>\n",
              "    <tr style=\"text-align: right;\">\n",
              "      <th></th>\n",
              "      <th>meanfreq</th>\n",
              "      <th>sd</th>\n",
              "      <th>median</th>\n",
              "      <th>Q25</th>\n",
              "      <th>Q75</th>\n",
              "      <th>IQR</th>\n",
              "      <th>skew</th>\n",
              "      <th>kurt</th>\n",
              "      <th>sp.ent</th>\n",
              "      <th>sfm</th>\n",
              "      <th>mode</th>\n",
              "      <th>centroid</th>\n",
              "      <th>meanfun</th>\n",
              "      <th>minfun</th>\n",
              "      <th>maxfun</th>\n",
              "      <th>meandom</th>\n",
              "      <th>mindom</th>\n",
              "      <th>maxdom</th>\n",
              "      <th>dfrange</th>\n",
              "      <th>modindx</th>\n",
              "      <th>label</th>\n",
              "    </tr>\n",
              "  </thead>\n",
              "  <tbody>\n",
              "    <tr>\n",
              "      <th>0</th>\n",
              "      <td>0.059781</td>\n",
              "      <td>0.064241</td>\n",
              "      <td>0.032027</td>\n",
              "      <td>0.015071</td>\n",
              "      <td>0.090193</td>\n",
              "      <td>0.075122</td>\n",
              "      <td>12.863462</td>\n",
              "      <td>274.402906</td>\n",
              "      <td>0.893369</td>\n",
              "      <td>0.491918</td>\n",
              "      <td>0.000000</td>\n",
              "      <td>0.059781</td>\n",
              "      <td>0.084279</td>\n",
              "      <td>0.015702</td>\n",
              "      <td>0.275862</td>\n",
              "      <td>0.007812</td>\n",
              "      <td>0.007812</td>\n",
              "      <td>0.007812</td>\n",
              "      <td>0.000000</td>\n",
              "      <td>0.000000</td>\n",
              "      <td>male</td>\n",
              "    </tr>\n",
              "    <tr>\n",
              "      <th>1</th>\n",
              "      <td>0.066009</td>\n",
              "      <td>0.067310</td>\n",
              "      <td>0.040229</td>\n",
              "      <td>0.019414</td>\n",
              "      <td>0.092666</td>\n",
              "      <td>0.073252</td>\n",
              "      <td>22.423285</td>\n",
              "      <td>634.613855</td>\n",
              "      <td>0.892193</td>\n",
              "      <td>0.513724</td>\n",
              "      <td>0.000000</td>\n",
              "      <td>0.066009</td>\n",
              "      <td>0.107937</td>\n",
              "      <td>0.015826</td>\n",
              "      <td>0.250000</td>\n",
              "      <td>0.009014</td>\n",
              "      <td>0.007812</td>\n",
              "      <td>0.054688</td>\n",
              "      <td>0.046875</td>\n",
              "      <td>0.052632</td>\n",
              "      <td>male</td>\n",
              "    </tr>\n",
              "    <tr>\n",
              "      <th>2</th>\n",
              "      <td>0.077316</td>\n",
              "      <td>0.083829</td>\n",
              "      <td>0.036718</td>\n",
              "      <td>0.008701</td>\n",
              "      <td>0.131908</td>\n",
              "      <td>0.123207</td>\n",
              "      <td>30.757155</td>\n",
              "      <td>1024.927705</td>\n",
              "      <td>0.846389</td>\n",
              "      <td>0.478905</td>\n",
              "      <td>0.000000</td>\n",
              "      <td>0.077316</td>\n",
              "      <td>0.098706</td>\n",
              "      <td>0.015656</td>\n",
              "      <td>0.271186</td>\n",
              "      <td>0.007990</td>\n",
              "      <td>0.007812</td>\n",
              "      <td>0.015625</td>\n",
              "      <td>0.007812</td>\n",
              "      <td>0.046512</td>\n",
              "      <td>male</td>\n",
              "    </tr>\n",
              "    <tr>\n",
              "      <th>3</th>\n",
              "      <td>0.151228</td>\n",
              "      <td>0.072111</td>\n",
              "      <td>0.158011</td>\n",
              "      <td>0.096582</td>\n",
              "      <td>0.207955</td>\n",
              "      <td>0.111374</td>\n",
              "      <td>1.232831</td>\n",
              "      <td>4.177296</td>\n",
              "      <td>0.963322</td>\n",
              "      <td>0.727232</td>\n",
              "      <td>0.083878</td>\n",
              "      <td>0.151228</td>\n",
              "      <td>0.088965</td>\n",
              "      <td>0.017798</td>\n",
              "      <td>0.250000</td>\n",
              "      <td>0.201497</td>\n",
              "      <td>0.007812</td>\n",
              "      <td>0.562500</td>\n",
              "      <td>0.554688</td>\n",
              "      <td>0.247119</td>\n",
              "      <td>male</td>\n",
              "    </tr>\n",
              "    <tr>\n",
              "      <th>4</th>\n",
              "      <td>0.135120</td>\n",
              "      <td>0.079146</td>\n",
              "      <td>0.124656</td>\n",
              "      <td>0.078720</td>\n",
              "      <td>0.206045</td>\n",
              "      <td>0.127325</td>\n",
              "      <td>1.101174</td>\n",
              "      <td>4.333713</td>\n",
              "      <td>0.971955</td>\n",
              "      <td>0.783568</td>\n",
              "      <td>0.104261</td>\n",
              "      <td>0.135120</td>\n",
              "      <td>0.106398</td>\n",
              "      <td>0.016931</td>\n",
              "      <td>0.266667</td>\n",
              "      <td>0.712812</td>\n",
              "      <td>0.007812</td>\n",
              "      <td>5.484375</td>\n",
              "      <td>5.476562</td>\n",
              "      <td>0.208274</td>\n",
              "      <td>male</td>\n",
              "    </tr>\n",
              "  </tbody>\n",
              "</table>\n",
              "</div>"
            ],
            "text/plain": [
              "   meanfreq        sd    median       Q25  ...    maxdom   dfrange   modindx  label\n",
              "0  0.059781  0.064241  0.032027  0.015071  ...  0.007812  0.000000  0.000000   male\n",
              "1  0.066009  0.067310  0.040229  0.019414  ...  0.054688  0.046875  0.052632   male\n",
              "2  0.077316  0.083829  0.036718  0.008701  ...  0.015625  0.007812  0.046512   male\n",
              "3  0.151228  0.072111  0.158011  0.096582  ...  0.562500  0.554688  0.247119   male\n",
              "4  0.135120  0.079146  0.124656  0.078720  ...  5.484375  5.476562  0.208274   male\n",
              "\n",
              "[5 rows x 21 columns]"
            ]
          },
          "metadata": {
            "tags": []
          },
          "execution_count": 5
        }
      ]
    },
    {
      "cell_type": "code",
      "metadata": {
        "id": "YLkwKWucJ_VI",
        "colab_type": "code",
        "colab": {}
      },
      "source": [
        "features = data.values[:,:20]\n",
        "target = data[\"label\"].values"
      ],
      "execution_count": 0,
      "outputs": []
    },
    {
      "cell_type": "code",
      "metadata": {
        "id": "tJTqQStDKRNb",
        "colab_type": "code",
        "outputId": "7843380a-5d28-49bf-a6da-815549f073a8",
        "colab": {
          "base_uri": "https://localhost:8080/",
          "height": 238
        }
      },
      "source": [
        "features"
      ],
      "execution_count": 7,
      "outputs": [
        {
          "output_type": "execute_result",
          "data": {
            "text/plain": [
              "array([[0.0597809849598081, 0.0642412677031359, 0.032026913372582004,\n",
              "        ..., 0.0078125, 0.0, 0.0],\n",
              "       [0.066008740387572, 0.0673100287952527, 0.040228734810579, ...,\n",
              "        0.0546875, 0.046875, 0.0526315789473684],\n",
              "       [0.0773155026958227, 0.0838294209445061, 0.0367184586699814, ...,\n",
              "        0.015625, 0.0078125, 0.0465116279069767],\n",
              "       ...,\n",
              "       [0.14205625571240602, 0.0957984262823456, 0.18373123659756999,\n",
              "        ..., 2.9375, 2.9296875, 0.194758620689655],\n",
              "       [0.14365874483002697, 0.09062826099732302, 0.18497616777883702,\n",
              "        ..., 3.59375, 3.5859375, 0.311002178649237],\n",
              "       [0.16550894600183702, 0.0928835369116316, 0.183043922369765, ...,\n",
              "        0.5546875, 0.546875, 0.35]], dtype=object)"
            ]
          },
          "metadata": {
            "tags": []
          },
          "execution_count": 7
        }
      ]
    },
    {
      "cell_type": "code",
      "metadata": {
        "id": "pU9ToEF-MGcK",
        "colab_type": "code",
        "outputId": "444bde65-929e-4d32-848f-283ebce9fa68",
        "colab": {
          "base_uri": "https://localhost:8080/",
          "height": 51
        }
      },
      "source": [
        "target"
      ],
      "execution_count": 8,
      "outputs": [
        {
          "output_type": "execute_result",
          "data": {
            "text/plain": [
              "array(['male', 'male', 'male', ..., 'female', 'female', 'female'],\n",
              "      dtype=object)"
            ]
          },
          "metadata": {
            "tags": []
          },
          "execution_count": 8
        }
      ]
    },
    {
      "cell_type": "markdown",
      "metadata": {
        "id": "72wCZsTRK1BA",
        "colab_type": "text"
      },
      "source": [
        "NORMALIZING AND ONE HOT ENCODING "
      ]
    },
    {
      "cell_type": "code",
      "metadata": {
        "id": "3iasjGcDM2KM",
        "colab_type": "code",
        "colab": {}
      },
      "source": [
        "scaler = MinMaxScaler()\n",
        "features = scaler.fit_transform(features)\n",
        "\n",
        "encoder = OneHotEncoder(handle_unknown='ignore')\n",
        "one_hot_targets = encoder.fit_transform(target.reshape(-1,1)).toarray()\n",
        "\n",
        "#pca = PCA(n_components=0.9) \n",
        "#reduced_features = pca.fit_transform(features)"
      ],
      "execution_count": 0,
      "outputs": []
    },
    {
      "cell_type": "code",
      "metadata": {
        "id": "ascZHxWlM7Zs",
        "colab_type": "code",
        "outputId": "4699f008-2bfd-473f-9924-d5867ab85e4a",
        "colab": {
          "base_uri": "https://localhost:8080/",
          "height": 136
        }
      },
      "source": [
        "one_hot_targets"
      ],
      "execution_count": 10,
      "outputs": [
        {
          "output_type": "execute_result",
          "data": {
            "text/plain": [
              "array([[0., 1.],\n",
              "       [0., 1.],\n",
              "       [0., 1.],\n",
              "       ...,\n",
              "       [1., 0.],\n",
              "       [1., 0.],\n",
              "       [1., 0.]])"
            ]
          },
          "metadata": {
            "tags": []
          },
          "execution_count": 10
        }
      ]
    },
    {
      "cell_type": "markdown",
      "metadata": {
        "id": "ZtBzRl_6Ku6Q",
        "colab_type": "text"
      },
      "source": [
        "Train - Test Data Split\n"
      ]
    },
    {
      "cell_type": "code",
      "metadata": {
        "id": "o46e6W0tM9RA",
        "colab_type": "code",
        "colab": {}
      },
      "source": [
        "xtrain, xtest, ytrain, ytest = train_test_split(features, one_hot_targets, test_size = 0.3)"
      ],
      "execution_count": 0,
      "outputs": []
    },
    {
      "cell_type": "code",
      "metadata": {
        "id": "ZBJvVksiP2Y9",
        "colab_type": "code",
        "outputId": "53f588d4-4863-4d61-e40b-dd9f37c8fcce",
        "colab": {
          "base_uri": "https://localhost:8080/",
          "height": 34
        }
      },
      "source": [
        "len(features[0])"
      ],
      "execution_count": 12,
      "outputs": [
        {
          "output_type": "execute_result",
          "data": {
            "text/plain": [
              "20"
            ]
          },
          "metadata": {
            "tags": []
          },
          "execution_count": 12
        }
      ]
    },
    {
      "cell_type": "markdown",
      "metadata": {
        "id": "5ly32dpFLRK-",
        "colab_type": "text"
      },
      "source": [
        "DEFINE WEIGHTS AND ITERATIONS"
      ]
    },
    {
      "cell_type": "code",
      "metadata": {
        "id": "s9jPVLtMNKKG",
        "colab_type": "code",
        "outputId": "ae038d54-0f59-4d38-a1de-dbad2c93f1b9",
        "colab": {
          "base_uri": "https://localhost:8080/",
          "height": 102
        }
      },
      "source": [
        "np.random.seed(0)\n",
        "\n",
        "input_nodes = len(features[0])\n",
        "w0 = np.random.random((input_nodes,7))\n",
        "w1 = np.random.random((7,2))\n",
        "\n",
        "iterations = 15000\n",
        "\n",
        "get_model_description([w0,w1])"
      ],
      "execution_count": 13,
      "outputs": [
        {
          "output_type": "stream",
          "text": [
            "Weight ip-op\tLayer Shape\tLayer Params\n",
            "Layer 0-1\t(20, 7)\t140\n",
            "Layer 1-2\t(7, 2)\t14\n",
            "\n",
            "Total Trainable Params:  154\n"
          ],
          "name": "stdout"
        }
      ]
    },
    {
      "cell_type": "markdown",
      "metadata": {
        "id": "2R7CMVa3LCmj",
        "colab_type": "text"
      },
      "source": [
        "TRAINING THE MODEL AND PRINTING THE LOSS"
      ]
    },
    {
      "cell_type": "code",
      "metadata": {
        "id": "YFCq14LONPLN",
        "colab_type": "code",
        "outputId": "27ee398b-7726-459b-b310-8ee7faacf696",
        "colab": {
          "base_uri": "https://localhost:8080/",
          "height": 372,
          "referenced_widgets": [
            "d2c408836d944cb19bff8d62b33e49d4",
            "7d19f90f0c27481f815fe567cdba1ab5",
            "2a5254e9743443b3b5b5c312e1c2ba5d",
            "0bd7db6ce14249b6945addd37368e3c6",
            "7b72c179b93c4493a988f7652c577b20",
            "ba78c71903fa498b8ca61c309fec0f49",
            "638fa3be0560492a9afd5675e0df9957",
            "e32751ad2c1a4d83840e8a42d243ada7"
          ]
        }
      },
      "source": [
        "train_loss = []\n",
        "val_loss = []\n",
        "\n",
        "train_acc = []\n",
        "val_acc = []\n",
        "\n",
        "iters = []\n",
        "iters2 = []\n",
        "\n",
        "for i in tqdm_notebook(range(iterations)):\n",
        "# Train the model\n",
        "  layer0, layer1, layer2= feed_forward(xtrain, w0,w1)\n",
        "  w0,w1 = backpropogate(layer0, layer1, layer2,ytrain, w0,w1, 0.004)\n",
        "\n",
        "  if i%10==0:\n",
        "    _, _, vpred = feed_forward(xtest, w0,w1)\n",
        "    tloss = np.mean(np.abs(layer2-ytrain))\n",
        "    vloss = np.mean(np.abs(vpred-ytest))\n",
        "\n",
        "    train_loss.append(tloss)\n",
        "    val_loss.append(vloss)\n",
        "    iters.append(int(i))\n",
        "# Print Loss\n",
        "    if i%1000 == 0:\n",
        "      tacc = get_accuracy(xtrain, ytrain)\n",
        "      vacc = get_accuracy(xtest, ytest)\n",
        "      train_acc.append(tacc)\n",
        "      val_acc.append(vacc)\n",
        "      iters2.append(i)\n",
        "      print(\"Train Loss: %.5f | Valdn Loss: %.5f | Train Acc. %.5f | Test  Acc. %.5f\" %(tloss, vloss, tacc, vacc))"
      ],
      "execution_count": 14,
      "outputs": [
        {
          "output_type": "stream",
          "text": [
            "/usr/local/lib/python3.6/dist-packages/ipykernel_launcher.py:10: TqdmDeprecationWarning: This function will be removed in tqdm==5.0.0\n",
            "Please use `tqdm.notebook.tqdm` instead of `tqdm.tqdm_notebook`\n",
            "  # Remove the CWD from sys.path while we load stuff.\n"
          ],
          "name": "stderr"
        },
        {
          "output_type": "display_data",
          "data": {
            "application/vnd.jupyter.widget-view+json": {
              "model_id": "d2c408836d944cb19bff8d62b33e49d4",
              "version_minor": 0,
              "version_major": 2
            },
            "text/plain": [
              "HBox(children=(IntProgress(value=0, max=15000), HTML(value='')))"
            ]
          },
          "metadata": {
            "tags": []
          }
        },
        {
          "output_type": "stream",
          "text": [
            "Train Loss: 0.50003 | Valdn Loss: 0.49878 | Train Acc. 49.57149 | Test  Acc. 50.99895\n",
            "Train Loss: 0.05408 | Valdn Loss: 0.04514 | Train Acc. 97.20343 | Test  Acc. 98.52787\n",
            "Train Loss: 0.04522 | Valdn Loss: 0.03685 | Train Acc. 97.65449 | Test  Acc. 98.84332\n",
            "Train Loss: 0.04068 | Valdn Loss: 0.03269 | Train Acc. 97.92512 | Test  Acc. 98.84332\n",
            "Train Loss: 0.03772 | Valdn Loss: 0.02999 | Train Acc. 97.92512 | Test  Acc. 98.73817\n",
            "Train Loss: 0.03561 | Valdn Loss: 0.02808 | Train Acc. 98.01534 | Test  Acc. 98.73817\n",
            "Train Loss: 0.03401 | Valdn Loss: 0.02668 | Train Acc. 98.06044 | Test  Acc. 98.63302\n",
            "Train Loss: 0.03271 | Valdn Loss: 0.02565 | Train Acc. 98.06044 | Test  Acc. 98.63302\n",
            "Train Loss: 0.03164 | Valdn Loss: 0.02483 | Train Acc. 98.06044 | Test  Acc. 98.73817\n",
            "Train Loss: 0.03082 | Valdn Loss: 0.02421 | Train Acc. 98.15065 | Test  Acc. 98.73817\n",
            "Train Loss: 0.03027 | Valdn Loss: 0.02389 | Train Acc. 98.15065 | Test  Acc. 98.63302\n",
            "Train Loss: 0.02992 | Valdn Loss: 0.02388 | Train Acc. 98.28597 | Test  Acc. 98.63302\n",
            "Train Loss: 0.02955 | Valdn Loss: 0.02397 | Train Acc. 98.33108 | Test  Acc. 98.63302\n",
            "Train Loss: 0.02910 | Valdn Loss: 0.02409 | Train Acc. 98.42129 | Test  Acc. 98.52787\n",
            "Train Loss: 0.02889 | Valdn Loss: 0.02474 | Train Acc. 98.55661 | Test  Acc. 98.42271\n",
            "\n"
          ],
          "name": "stdout"
        }
      ]
    },
    {
      "cell_type": "markdown",
      "metadata": {
        "id": "u4_RSnwGLJRX",
        "colab_type": "text"
      },
      "source": [
        "PLOT THE TRAINING AND VALIDATION ACCURACY"
      ]
    },
    {
      "cell_type": "code",
      "metadata": {
        "id": "RKULmarhNWV8",
        "colab_type": "code",
        "outputId": "fbc30c49-a5c3-4753-cf8e-7e654e9c3609",
        "colab": {
          "base_uri": "https://localhost:8080/",
          "height": 445
        }
      },
      "source": [
        "with plt.style.context('dark_background'):\n",
        "  fig= plt.figure(figsize=(15,7))\n",
        "  plt.subplot(1,2,1)\n",
        "  plt.plot(iters, train_loss, 'r', label=\"Training Loss\")\n",
        "  plt.plot(iters, val_loss, 'b--', label=\"Validation Loss\")\n",
        "  plt.xlabel(\"Iterations\")\n",
        "  plt.ylabel(\"Loss\")\n",
        "  plt.legend()\n",
        "  plt.subplot(1,2,2)\n",
        "  plt.plot(iters2, train_acc, 'r', label=\"Training Acc\")\n",
        "  plt.plot(iters2, val_acc, 'b--', label=\"Validation Acc\")\n",
        "  plt.xlabel(\"Iterations\")\n",
        "  plt.ylabel(\"Acc\")\n",
        "  plt.legend()\n"
      ],
      "execution_count": 0,
      "outputs": [
        {
          "output_type": "display_data",
          "data": {
            "image/png": "[encoded data removed]",
            "text/plain": [
              "<Figure size 1080x504 with 2 Axes>"
            ]
          },
          "metadata": {
            "tags": []
          }
        }
      ]
    },
    {
      "cell_type": "markdown",
      "metadata": {
        "id": "fz-lpa4qDIbF",
        "colab_type": "text"
      },
      "source": [
        "The training set is used to train the model, while the validation set is used to evaluate the model's performance.\n",
        "\n",
        " At the moment this model has an accuracy of 98.55% on the training set and 98.42% on the validation set. This means that we can expect this model to perform with 98.42% accuracy on new data.\n",
        "\n",
        " Training accuracy: 98.55%\n",
        "\n",
        " Validation accuracy:98.42%"
      ]
    },
    {
      "cell_type": "markdown",
      "metadata": {
        "id": "b0OI2GvbDxPP",
        "colab_type": "text"
      },
      "source": [
        "As the training loss and validation loss plots are parallel to each other, the data is optimally trained.It is neither underfit nor overfit.\n"
      ]
    }
  ]
}